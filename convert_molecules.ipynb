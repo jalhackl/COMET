{
 "cells": [
  {
   "cell_type": "markdown",
   "metadata": {},
   "source": [
    "## Some of the MD-trajectories are only available in xtc- or gro-format. In converters.py, there are functions to convert them into .dcd and multi-pdb format."
   ]
  },
  {
   "cell_type": "code",
   "execution_count": 4,
   "metadata": {},
   "outputs": [],
   "source": [
    "import os\n",
    "## Example commands (multi-pdb requires a lot of space)"
   ]
  },
  {
   "cell_type": "code",
   "execution_count": 5,
   "metadata": {},
   "outputs": [],
   "source": [
    "pdb_file = os.path.join(\"trajdata\", \"ProtNo2\", \"prod_r1_pbc_fit_prot_last.pdb\")\n",
    "xtc_file = os.path.join(\"trajdata\", \"ProtNo2\", \"prod_r1_nojump_prot.xtc\")"
   ]
  },
  {
   "cell_type": "code",
   "execution_count": 6,
   "metadata": {},
   "outputs": [],
   "source": [
    "import converters"
   ]
  },
  {
   "cell_type": "code",
   "execution_count": null,
   "metadata": {},
   "outputs": [],
   "source": [
    "converters.mda_convert(xtc_file, pdb_file)"
   ]
  },
  {
   "cell_type": "code",
   "execution_count": null,
   "metadata": {},
   "outputs": [],
   "source": [
    "converters.mda_convert_pdb(xtc_file, pdb_file)"
   ]
  }
 ],
 "metadata": {
  "kernelspec": {
   "display_name": "redpandda39kali",
   "language": "python",
   "name": "python3"
  },
  "language_info": {
   "codemirror_mode": {
    "name": "ipython",
    "version": 3
   },
   "file_extension": ".py",
   "mimetype": "text/x-python",
   "name": "python",
   "nbconvert_exporter": "python",
   "pygments_lexer": "ipython3",
   "version": "3.9.18"
  }
 },
 "nbformat": 4,
 "nbformat_minor": 2
}
